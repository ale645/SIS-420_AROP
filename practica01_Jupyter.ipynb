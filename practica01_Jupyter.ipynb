{
 "cells": [
  {
   "cell_type": "code",
   "execution_count": 16,
   "id": "1a3c5aa5",
   "metadata": {},
   "outputs": [
    {
     "name": "stdout",
     "output_type": "stream",
     "text": [
      "Ingrese el nombre de un pez: a\n",
      "Ingrese el nombre de un pez: d\n",
      "Ingrese el nombre de un pez: f\n",
      "Ingrese el nombre de un pez: g\n",
      "Ingrese el nombre de un pez: h\n",
      "Ingrese el nombre de un pez: j\n",
      "['a', 'd', 'f', 'g', 'h']\n"
     ]
    }
   ],
   "source": [
    "#Listas\n",
    "\n",
    "def Listas():\n",
    "    conjunto_de_peces=[]\n",
    "    nombre = input(\"Ingrese el nombre de un pez: \")\n",
    "    cantidad=0\n",
    "    while cantidad <= 4:\n",
    "        if nombre.isalpha() == True:\n",
    "            conjunto_de_peces.append(nombre)\n",
    "            cantidad = cantidad + 1\n",
    "        nombre = input(\"Ingrese el nombre de un pez: \")\n",
    "        \n",
    "    print(conjunto_de_peces)\n",
    "\n",
    "Listas()     \n",
    "        "
   ]
  },
  {
   "cell_type": "code",
   "execution_count": null,
   "id": "075bf054",
   "metadata": {},
   "outputs": [],
   "source": []
  }
 ],
 "metadata": {
  "kernelspec": {
   "display_name": "Python 3 (ipykernel)",
   "language": "python",
   "name": "python3"
  },
  "language_info": {
   "codemirror_mode": {
    "name": "ipython",
    "version": 3
   },
   "file_extension": ".py",
   "mimetype": "text/x-python",
   "name": "python",
   "nbconvert_exporter": "python",
   "pygments_lexer": "ipython3",
   "version": "3.9.12"
  }
 },
 "nbformat": 4,
 "nbformat_minor": 5
}
