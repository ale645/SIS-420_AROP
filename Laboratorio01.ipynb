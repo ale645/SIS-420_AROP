{
  "nbformat": 4,
  "nbformat_minor": 0,
  "metadata": {
    "colab": {
      "provenance": [],
      "collapsed_sections": []
    },
    "kernelspec": {
      "name": "python3",
      "display_name": "Python 3"
    },
    "language_info": {
      "name": "python"
    }
  },
  "cells": [
    {
      "cell_type": "code",
      "execution_count": null,
      "metadata": {
        "colab": {
          "base_uri": "https://localhost:8080/"
        },
        "id": "S4pKltRVhIlh",
        "outputId": "e2ae0fbf-aeac-4d61-da74-2c01d4677234"
      },
      "outputs": [
        {
          "output_type": "stream",
          "name": "stdout",
          "text": [
            "Ingrese un numero de filas: 10\n",
            "Ingrese un numero de columnas: 15\n",
            "███████████████████████████████\n",
            "█             █     █     █   █\n",
            "█ ███████████ █ ███ ███ █ █ █ █\n",
            "█       █   █ █ █ █     █ █ █ █\n",
            "█ █████ █ ███ █ █ ███████ ███ █\n",
            "█   █ █ █   █   █   █     █   █\n",
            "███ █ █ █ █ ███████ █ █████ █ █\n",
            "█ █ █ █ █ █   █     █       █ █\n",
            "█ █ █ █ █████ █ █ ███ █████████\n",
            "█ █ █ █     █   █ █   █   █   █\n",
            "█ █ █ █████ █████ █ ███ ███ █ █\n",
            "█   █   █   █   █   █   █   █ █\n",
            "█ █████ █ █ █ █ ███ █ ███ ███ █\n",
            "█     █ █ █ █ █   █ █     █ █ █\n",
            "█████ █ █ ███ ███ █████████ █ █\n",
            "█     █ █     █ █ █           █\n",
            "█ █████ ███████ █ █ ███████████\n",
            "█         █     █ █     █   █ █\n",
            "█████████ █████ █ █████ █ █ █ █\n",
            "█               █         █   █\n",
            "███████████████████████████████\n"
          ]
        }
      ],
      "source": [
        "\n",
        "from random import shuffle, randint     # Números pseudoaleatorios\n",
        "from itertools import product           # Producto cartesiano\n",
        "import random\n",
        "\n",
        "def laberinto():\n",
        "    filas = int(input(\"Ingrese un numero de filas: \"))\n",
        "    columnas = int(input(\"Ingrese un numero de columnas: \"))\n",
        "    def lado(i, j):                  # Conjunto de celdas contiguas a (i, j)\n",
        "        if 0 < i: yield i - 1, j\n",
        "        if i < filas - 1: yield i + 1, j    # yield retorna las partes una a la vez\n",
        "        if 0 < j: yield i, j - 1\n",
        "        if j < columnas - 1: yield i, j + 1\n",
        "\n",
        "    def visitar(i, j):                  # Alg. de recorrido en profundidad:\n",
        "        X.add((i, j))                   # Marca la celda actual como visitada\n",
        "        espacios = list(lado(i, j)); shuffle(espacios)  # Desordena las celdas continua\n",
        "        for h, k in espacios:                  # recorrido para cada celda que no haya sido visitada:\n",
        "            if (h, k) in X: \n",
        "              continue   # -> nos permite obviar esta parte hasta que se cumpla la funcion \n",
        "            A[i + h + 1][j + k + 1] = ' '  # Tumbar el muro que las separa\n",
        "            visitar(h, k)               # Visitar lado recursivamente\n",
        "\n",
        "    A = [['█']*(2*columnas + 1) for i in range(2*filas + 1)]  # Tablero\n",
        "    for i, j in product(range(1, 2*filas + 1, 2), range(1, 2*columnas + 1, 2)):\n",
        "        A[i][j] = ' '                   # Poner celdas blancas(paredes)\n",
        "        \n",
        "    ficha_fila = random.randrange(filas)          # selecionar un punto random en las filas\n",
        "    ficha_columnas = random.randrange(columnas)   # seleccionar un punto random en las columnas\n",
        "    A[ficha_fila][ficha_columnas] = 'O'           # objeto que recorera el laberinto\n",
        "\n",
        "    X = set()                           # Conjunto de celdas visitadas\n",
        "    visitar(randint(0, filas - 1), randint(0, columnas - 1))  # Inicio en celda aleatoria\n",
        "    return('\\n'.join(''.join(fila) for fila in A))  # Unir símbolos en un string ( str representacion de texto)\n",
        "\n",
        "print(laberinto())"
      ]
    }
  ]
}