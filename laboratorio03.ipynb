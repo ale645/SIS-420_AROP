{
  "nbformat": 4,
  "nbformat_minor": 0,
  "metadata": {
    "colab": {
      "provenance": [],
      "collapsed_sections": [],
      "authorship_tag": "ABX9TyN2VP+pHhmlYF8s+9909suN",
      "include_colab_link": true
    },
    "kernelspec": {
      "name": "python3",
      "display_name": "Python 3"
    },
    "language_info": {
      "name": "python"
    }
  },
  "cells": [
    {
      "cell_type": "markdown",
      "metadata": {
        "id": "view-in-github",
        "colab_type": "text"
      },
      "source": [
        "<a href=\"https://colab.research.google.com/github/ale645/SIS-420_AROP/blob/main/laboratorio03.ipynb\" target=\"_parent\"><img src=\"https://colab.research.google.com/assets/colab-badge.svg\" alt=\"Open In Colab\"/></a>"
      ]
    },
    {
      "cell_type": "markdown",
      "source": [
        "Alumnos del grupo: ....................Carrera:\n",
        "\n",
        "Oña Medrano Adrian ................. Ing. Diseño y animacion digital\n",
        "\n",
        "Reyes Ortiz Pérez Alejandra ..... Ing. Diseño y animacion digital\n"
      ],
      "metadata": {
        "id": "BBZCAmZXuilX"
      }
    },
    {
      "cell_type": "markdown",
      "source": [
        "En grupo de 2 estudiantes, desarrollar lo siguiente:\n",
        "\n",
        "A partir del codigo proporcionado para resolver un rompecabezas de con cuatro digitos de tipo lineal, que solo permite un movimiento simultane entre dos numeros contiguos solamente, desarrollar lo siguiente:\n",
        "\n",
        "    Implementar una funcion que permita expandir nodos hijos para n caracteres, los cuales deben ser establecidos al momento de iniciar el programa.\n",
        "    Describir cual es el nivel maximo de numero de digitos que el rompecabezas se puede resolver en su maquina, explicando a que se deberia este limite y como se lo podria superara.\n",
        "    hacer correr el mismo programa, pero utilizando una lista LIFO para la lista frontera.\n",
        "\n",
        "Se debe incluir de manera comentada los miembros del grupo, la descripccion solicitada y cualquier aporte o aclaracion."
      ],
      "metadata": {
        "id": "ppSIWP7ivDQm"
      }
    },
    {
      "cell_type": "code",
      "execution_count": 7,
      "metadata": {
        "id": "fAnrg1nxYtrO"
      },
      "outputs": [],
      "source": [
        "# datos = estado\n",
        "class Nodo:\n",
        "    def __init__(self, datos, hijo=None):\n",
        "        self.datos = datos\n",
        "        self.hijos = []\n",
        "        self.padre = None\n",
        "        self.costo = None\n",
        "        self.set_hijo(hijo)\n",
        "        \n",
        "    def set_hijo(self, hijo):\n",
        "        if (hijo is not None):\n",
        "            self.hijos.append(hijo)\n",
        "            if self.hijos is not None:\n",
        "                for h in self.hijos:\n",
        "                    h.padre = self\n",
        "                \n",
        "    def get_hijos(self):\n",
        "        return self.hijos\n",
        "    \n",
        "    def set_padre(self, padre):\n",
        "        self.padre = padre\n",
        "        \n",
        "    def get_padre(self):\n",
        "        return self.padre\n",
        "\n",
        "    def set_datos(self, datos):\n",
        "        self.datos = datos\n",
        "    \n",
        "    def get_datos(self):\n",
        "        return self.datos\n",
        "    \n",
        "    def set_costo(self, costo):\n",
        "        self.costo = costo\n",
        "        \n",
        "    def get_costo(self):\n",
        "        return self.costo\n",
        "    \n",
        "    def equal(self, nodo):\n",
        "        if self.get_datos() == nodo.get_datos():\n",
        "            return True\n",
        "        else:\n",
        "            return False\n",
        "    \n",
        "    def en_lista(self, lista_nodos):\n",
        "        enlistado = False\n",
        "        for n in lista_nodos:\n",
        "            if self.equal(n):\n",
        "                enlistado = True\n",
        "        return enlistado\n",
        "    \n",
        "    def __str__(self):\n",
        "        return str(self.get_datos())"
      ]
    },
    {
      "cell_type": "code",
      "source": [
        "\"\"\" Se optimiso la expancion de nodos por hijos en una sola que aplicara para n variables, \n",
        "de forma que no se genere un limite de tamaño para el nodo inicial, luego observamos que pasada la cantidad\n",
        "7 numeros dentro de nuestro estado inicial el ordenamiento se iva haciendo cada vez mas lento y tardado,\n",
        "por lo cual se agrego una condicion por medio de un if que iria comparando los datos dentro del nodo:actual\n",
        "observando que si el primer numero era menor al que le seguia iria comparando el siguiente sucesivamente,pero\n",
        "si es mayor se generaria un cambio entre los numeros.\n",
        "\"\"\""
      ],
      "metadata": {
        "id": "Kk2FfuHYwLQp"
      },
      "execution_count": null,
      "outputs": []
    },
    {
      "cell_type": "code",
      "source": [
        "def bpa(estado_inicio, estado_solucion):\n",
        "    resuelto = False\n",
        "    nodos_visitados = []\n",
        "    nodos_frontera = []\n",
        "    nodo_inicio = Nodo(estado_inicio)\n",
        "    nodos_frontera.append(nodo_inicio)\n",
        "    \n",
        "    while resuelto == False and len(nodos_frontera) != 0:\n",
        "        nodo_actual = nodos_frontera.pop(0)  #Lifo = pop()\n",
        "        nodos_visitados.append(nodo_actual)\n",
        "        if nodo_actual.get_datos() == estado_solucion:\n",
        "            resuelto = True\n",
        "            return nodo_actual\n",
        "        else:\n",
        "            hijo1_datos = nodo_actual.get_datos().copy()\n",
        "   #buscador burbuja\n",
        "            for i in range(1,len(hijo1_datos)): #para cantidad de vueltas \n",
        "              \n",
        "              for j in range(0,len(hijo1_datos)-1):\n",
        "                \n",
        "                if hijo1_datos[j]> hijo1_datos[j+1]: #sin esto solo llega al 7 despues empieza a lentearse\n",
        "                  temp = hijo1_datos[j]\n",
        "                  hijo1_datos[j] = hijo1_datos[j+1]\n",
        "                  hijo1_datos[j+1] = temp\n",
        "                  hijo1 = Nodo(hijo1_datos)\n",
        "                  print(hijo1_datos)\n",
        "                if not hijo1.en_lista(nodos_visitados) and not hijo1.en_lista(nodos_frontera):\n",
        "                  nodo_actual.set_hijo(hijo1)\n",
        "                  nodos_frontera.append(hijo1)\n",
        "              "
      ],
      "metadata": {
        "id": "VrGxI80muqHq"
      },
      "execution_count": 29,
      "outputs": []
    },
    {
      "cell_type": "code",
      "source": [
        "if __name__ == \"__main__\":\n",
        "    estado_inicial = [5,4,3,2,1]\n",
        "    solucion = [1, 2, 3, 4,5]\n",
        "    nodo_solucion = bpa(estado_inicial, solucion)\n",
        "\n",
        "    # mostrar resultado\n",
        "    resultado = []\n",
        "    nodo_actual = nodo_solucion\n",
        "    while nodo_actual.get_padre() is not None:\n",
        "        resultado.append(nodo_actual.get_datos())\n",
        "        nodo_actual = nodo_actual.get_padre()\n",
        "\n",
        "    resultado.append(estado_inicial)\n",
        "    resultado.reverse()\n",
        "    print(resultado)"
      ],
      "metadata": {
        "colab": {
          "base_uri": "https://localhost:8080/"
        },
        "id": "2OzE0ZKQuwqO",
        "outputId": "c66f11d7-cddd-4543-fd2b-ea02d5731cc1"
      },
      "execution_count": 34,
      "outputs": [
        {
          "output_type": "stream",
          "name": "stdout",
          "text": [
            "[4, 5, 3, 2, 1]\n",
            "[4, 3, 5, 2, 1]\n",
            "[4, 3, 2, 5, 1]\n",
            "[4, 3, 2, 1, 5]\n",
            "[3, 4, 2, 1, 5]\n",
            "[3, 2, 4, 1, 5]\n",
            "[3, 2, 1, 4, 5]\n",
            "[2, 3, 1, 4, 5]\n",
            "[2, 1, 3, 4, 5]\n",
            "[1, 2, 3, 4, 5]\n",
            "[[5, 4, 3, 2, 1], [1, 2, 3, 4, 5]]\n"
          ]
        }
      ]
    },
    {
      "cell_type": "markdown",
      "source": [
        "https://github.com/ale645/SIS-420_AROP/blob/main/laboratorio03.ipynb "
      ],
      "metadata": {
        "id": "8Ou1gESExyL3"
      }
    }
  ]
}