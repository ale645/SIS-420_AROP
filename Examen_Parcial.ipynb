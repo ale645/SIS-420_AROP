{
  "nbformat": 4,
  "nbformat_minor": 0,
  "metadata": {
    "colab": {
      "provenance": [],
      "authorship_tag": "ABX9TyMKpJsxzlDAknU+xFMdHdLd",
      "include_colab_link": true
    },
    "kernelspec": {
      "name": "python3",
      "display_name": "Python 3"
    },
    "language_info": {
      "name": "python"
    }
  },
  "cells": [
    {
      "cell_type": "markdown",
      "metadata": {
        "id": "view-in-github",
        "colab_type": "text"
      },
      "source": [
        "<a href=\"https://colab.research.google.com/github/ale645/SIS-420_AROP/blob/main/Examen_Parcial.ipynb\" target=\"_parent\"><img src=\"https://colab.research.google.com/assets/colab-badge.svg\" alt=\"Open In Colab\"/></a>"
      ]
    },
    {
      "cell_type": "code",
      "execution_count": 1,
      "metadata": {
        "id": "lbOhbaGVB7mu"
      },
      "outputs": [],
      "source": [
        "class Nodo:\n",
        "    def __init__(self, data, hijos = None):\n",
        "        self._data = data\n",
        "        self._hijos = hijos\n",
        "        self._padre = None\n",
        "\n",
        "    @property\n",
        "    def data(self):\n",
        "        return self._data\n",
        "\n",
        "    @data.setter\n",
        "    def data(self, value):\n",
        "        self._data = value\n",
        "    \n",
        "    @property\n",
        "    def padre(self):\n",
        "        return self._padre\n",
        "    \n",
        "    @padre.setter\n",
        "    def padre(self, padre):\n",
        "        self._padre = padre\n",
        "    \n",
        "    @property\n",
        "    def hijos(self):\n",
        "        return self._hijos\n",
        "    \n",
        "    @hijos.setter\n",
        "    def hijos(self, hijos):\n",
        "        self._hijos = hijos\n",
        "        if self._hijos != None:\n",
        "            for hijo in self._hijos:\n",
        "                hijo._padre = self\n",
        "    \n",
        "    def en_lista(self, lista_nodos):        \n",
        "        for n in lista_nodos:\n",
        "            if self._data == n._data:\n",
        "                return True\n",
        "        return False\n",
        "\n",
        "    def __str__(self):\n",
        "        return f\"Nodo([{self._data}])\"\n",
        "\n",
        "    def equals(self, other):\n",
        "        if other is Nodo:\n",
        "            return self._data == other._data\n",
        "        return False\n"
      ]
    },
    {
      "cell_type": "code",
      "source": [
        "def busqueda_anchura(inicio,solucion):\n",
        "  # creacion de listas vacias\n",
        "  nodos_visitados = []\n",
        "  frontera = [] #para los nodos frontera\n",
        "  frontera.append(Nodo(inicio,solucion))\n",
        "\n",
        "  #casos de transporte en el bote \n",
        "  casos = [[2,0],[0,2],[1,0],[0,1],[1,1]]\n",
        "  \n",
        "  while len(frontera) > 0 :\n",
        "    nodo = frontera.pop(0)\n",
        "    nodos_visitados.append(nodo)\n",
        "\n",
        "    if nodo.data == solucion:\n",
        "      return nodo\n",
        "\n",
        "    else: \n",
        "      hijos=[]\n",
        "      for bote in casos:\n",
        "        posicion = nodo.data['posicion']\n",
        "        # 1 = se encuentra a la derecha, -1 = se encuentra en la izquierda\n",
        "        IzqMi = nodo.data['izquierda']['misioneros'] + posicion*bote[0]\n",
        "        IzqCa = nodo.data['izquierda']['canivales'] + posicion*bote[1]\n",
        "        DerMi = nodo.data['derecha']['misioneros_rio'] - posicion*bote[0]\n",
        "        DerCa = nodo.data['derecha']['canivales_rio'] - posicion*bote[1]\n",
        "        posicion = -posicion\n",
        "\n",
        "    #diccionario de hijos \n",
        "        nodo_hijo = Nodo({'izquierda':{'misioneros':IzqMi,'canivales':IzqCa},\n",
        "                      'derecha':{'misioneros_rio':DerMi,'canivales_rio':DerCa},\n",
        "                      'posicion':posicion})\n",
        "        \n",
        "        if not nodo_hijo.en_lista(nodos_visitados) and not nodo_hijo.en_lista(frontera):\n",
        "          if (IzqMi >= IzqCa or IzqMi == 0) and (DerMi >= DerCa or DerMi == 0):\n",
        "            if (0 <= IzqMi <=3) and (0 <= IzqCa <=3) and (0 <= DerMi <=3) and (0 <= DerCa <=3):\n",
        "              frontera.append(nodo_hijo)\n",
        "              hijos.append(nodo_hijo)\n",
        "\n",
        "      nodo.hijos = hijos\n",
        "\n",
        "def menu():\n",
        "  #modulo ejecutado directaente\n",
        "  if __name__== \"__main__\":\n",
        "    inicio = {'izquierda':{'misioneros': 3,'canivales': 3},\n",
        "                    'derecha':{'misioneros_rio': 0,'canivales_rio': 0},\n",
        "                      'posicion': -1}\n",
        "\n",
        "    solucion = {'izquierda':{'misioneros':0,'canivales':0},\n",
        "                  'derecha':{'misioneros_rio':3,'canivales_rio':3},\n",
        "                  'posicion': 1}\n",
        "\n",
        "    nodo_solucion = busqueda_anchura(inicio,solucion)\n",
        "\n",
        "    respuesta = []\n",
        "    nodo = nodo_solucion\n",
        "    while nodo.padre != None:\n",
        "      respuesta.append(nodo.data)\n",
        "      nodo = nodo.padre\n",
        "    \n",
        "    respuesta.append(inicio)\n",
        "    respuesta.reverse()\n",
        "\n",
        "  #para poder ver el proceso\n",
        "    for n in respuesta:\n",
        "      print(n)\n",
        "\n",
        "\n",
        "menu()"
      ],
      "metadata": {
        "colab": {
          "base_uri": "https://localhost:8080/"
        },
        "id": "Pr_Lpv74CC8g",
        "outputId": "0b182182-17c7-472f-9d93-940b76c45d78"
      },
      "execution_count": 2,
      "outputs": [
        {
          "output_type": "stream",
          "name": "stdout",
          "text": [
            "{'izquierda': {'misioneros': 3, 'canivales': 3}, 'derecha': {'misioneros_rio': 0, 'canivales_rio': 0}, 'posicion': -1}\n",
            "{'izquierda': {'misioneros': 3, 'canivales': 1}, 'derecha': {'misioneros_rio': 0, 'canivales_rio': 2}, 'posicion': 1}\n",
            "{'izquierda': {'misioneros': 3, 'canivales': 2}, 'derecha': {'misioneros_rio': 0, 'canivales_rio': 1}, 'posicion': -1}\n",
            "{'izquierda': {'misioneros': 3, 'canivales': 0}, 'derecha': {'misioneros_rio': 0, 'canivales_rio': 3}, 'posicion': 1}\n",
            "{'izquierda': {'misioneros': 3, 'canivales': 1}, 'derecha': {'misioneros_rio': 0, 'canivales_rio': 2}, 'posicion': -1}\n",
            "{'izquierda': {'misioneros': 1, 'canivales': 1}, 'derecha': {'misioneros_rio': 2, 'canivales_rio': 2}, 'posicion': 1}\n",
            "{'izquierda': {'misioneros': 2, 'canivales': 2}, 'derecha': {'misioneros_rio': 1, 'canivales_rio': 1}, 'posicion': -1}\n",
            "{'izquierda': {'misioneros': 0, 'canivales': 2}, 'derecha': {'misioneros_rio': 3, 'canivales_rio': 1}, 'posicion': 1}\n",
            "{'izquierda': {'misioneros': 0, 'canivales': 3}, 'derecha': {'misioneros_rio': 3, 'canivales_rio': 0}, 'posicion': -1}\n",
            "{'izquierda': {'misioneros': 0, 'canivales': 1}, 'derecha': {'misioneros_rio': 3, 'canivales_rio': 2}, 'posicion': 1}\n",
            "{'izquierda': {'misioneros': 1, 'canivales': 1}, 'derecha': {'misioneros_rio': 2, 'canivales_rio': 2}, 'posicion': -1}\n",
            "{'izquierda': {'misioneros': 0, 'canivales': 0}, 'derecha': {'misioneros_rio': 3, 'canivales_rio': 3}, 'posicion': 1}\n"
          ]
        }
      ]
    }
  ]
}