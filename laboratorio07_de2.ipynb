{
  "cells": [
    {
      "cell_type": "markdown",
      "metadata": {
        "id": "view-in-github",
        "colab_type": "text"
      },
      "source": [
        "<a href=\"https://colab.research.google.com/github/ale645/SIS-420_AROP/blob/main/laboratorio07_de2.ipynb\" target=\"_parent\"><img src=\"https://colab.research.google.com/assets/colab-badge.svg\" alt=\"Open In Colab\"/></a>"
      ]
    },
    {
      "cell_type": "code",
      "source": [
        "# Estudiante:Alejandra Reyes Ortiz Pérez\n",
        "# Carrera: Diseño y animacion digital\n",
        "#Materia: SIS-420"
      ],
      "metadata": {
        "id": "d1Onj0uipjRg"
      },
      "execution_count": null,
      "outputs": []
    },
    {
      "cell_type": "markdown",
      "metadata": {
        "id": "tfwOfkjclHQx"
      },
      "source": [
        "# Ejercicio de programación Regresión Lineal Multiple"
      ]
    },
    {
      "cell_type": "code",
      "execution_count": null,
      "metadata": {
        "id": "f0WGMMljlHQz"
      },
      "outputs": [],
      "source": [
        "# utilizado para manejos de directorios y rutas\n",
        "import os\n",
        "\n",
        "# Computacion vectorial y cientifica para python\n",
        "import numpy as np\n",
        "\n",
        "# Librerias para graficación (trazado de gráficos)\n",
        "from matplotlib import pyplot\n",
        "from mpl_toolkits.mplot3d import Axes3D  # Necesario para graficar superficies 3D\n",
        "\n",
        "# llama a matplotlib a embeber graficas dentro de los cuadernillos\n",
        "%matplotlib inline"
      ]
    },
    {
      "cell_type": "code",
      "source": [
        "from google.colab import drive\n",
        "drive.mount(\"/content/gdrive\")"
      ],
      "metadata": {
        "colab": {
          "base_uri": "https://localhost:8080/"
        },
        "id": "LhERtghFlVGr",
        "outputId": "dac24c9a-3fb5-4b17-aa65-4f8dc4bfbb8a"
      },
      "execution_count": null,
      "outputs": [
        {
          "output_type": "stream",
          "name": "stdout",
          "text": [
            "Mounted at /content/gdrive\n"
          ]
        }
      ]
    },
    {
      "cell_type": "markdown",
      "metadata": {
        "id": "G6-ykOwelHQ0"
      },
      "source": [
        "## 2 Regresión lineal con multiples variables\n",
        "\n",
        "Se implementa la regresion lineal multivariable para predecir el precio de las consultas medicas . El archivo `Datasetconsultorio_prac_de3.csv` contiene un conjunto de entrenamiento de precios de consultas medicas. La primera columna es los antecedentes que tenia el paciente, la segunda columna es el numero citas anteriormente hechas, y la tercera columna es la cantidad de laboratorios que se le hiso y la cuarta columna es el precio de la consulta. \n",
        "\n",
        "<a id=\"section4\"></a>\n",
        "### 2.1 Normalización de caracteristicas\n",
        "\n",
        "Al visualizar los datos se puede observar que las caracteristicas tienen diferentes magnitudes, por lo cual se debe transformar cada valor en una escala de valores similares, esto con el fin de que el descenso por el gradiente pueda converger mas rapidamente."
      ]
    },
    {
      "cell_type": "code",
      "execution_count": null,
      "metadata": {
        "colab": {
          "base_uri": "https://localhost:8080/"
        },
        "id": "6BP5grkxlHQ0",
        "outputId": "d14d3797-f622-466d-a2d7-d939d00d1502"
      },
      "outputs": [
        {
          "output_type": "stream",
          "name": "stdout",
          "text": [
            "607044\n",
            "  X[:,0] X[:, 1] X[:, 2]         y\n",
            "----------------------------------------------------\n",
            "       3      34      25        62\n",
            "       0      32      36        68\n",
            "       0      21      23        44\n",
            "       4     164     120       288\n",
            "       0       4       1         5\n",
            "       0       6      12        18\n",
            "       2      28      19        49\n",
            "       0      17       2        19\n",
            "       4      73      31       108\n",
            "       2      16      20        38\n"
          ]
        }
      ],
      "source": [
        "# Cargar datos\n",
        "# data = np.loadtxt(os.path.join('Datasets', 'ex1data2.txt'), delimiter=',')\n",
        "data = np.loadtxt('/content/gdrive/MyDrive/SIS-420/machine/Datasetconsultorio_prac_de3.csv', delimiter=',', skiprows=1)\n",
        "X = data[:, :3]\n",
        "y = data[:, 3]\n",
        "m = y.size\n",
        "print(m)\n",
        "# imprimir algunos puntos de datos\n",
        "print('{:>8s}{:>8s}{:>8s}{:>10s}'.format('X[:,0]', 'X[:, 1]', 'X[:, 2]', 'y'))\n",
        "print('-'*52)\n",
        "for i in range(10):\n",
        "    print('{:8.0f}{:8.0f}{:>8.0f}{:10.0f}'.format(X[i, 0], X[i, 1], X[i, 2], y[i]))"
      ]
    },
    {
      "cell_type": "markdown",
      "metadata": {
        "id": "7iU_3mwZlHQ1"
      },
      "source": [
        "La desviación estándar es una forma de medir cuánta variación hay en el rango de valores de una característica en particular (la mayoría de los puntos caeran en un rango de ± 2 en relación a la desviaciones estándar de la media); esta es una alternativa a tomar el rango de valores (max-min). En `numpy`, se puede usar la función `std` para calcular la desviacion estandar. \n",
        "\n",
        "Por ejemplo, la caracteristica`X[:, 0]` contiene todos los valores de $x_1$ (antecedentes medicos) en el conjunto de entrenamiento, entonces `np.std(X[:, 0])` calcula la desviacion estandar de los antecedentes en los pacentes.\n",
        "En el momento en que se llama a la función `featureNormalize`, la columna adicional de unos correspondiente a $ x_0 = 1 $ aún no se ha agregado a $ X $. \n",
        "\n",
        "<div class=\"alert alert-block alert-warning\">\n",
        "**Notas para la implementación:** Cuando se normalize una caracteristica, es importante almacenar los valores usados para la normalización - el valor de la media y el valor de la desviación estandar usado para los calculos. Despues de aprender los parametros del modelo, se deseara predecir los precios de consulta a otras personas. Dado un nuevo valor de x (cantidad de consultas hechas y laboratorios hechos), primero se debe normalizar x usando la media y la desviacion estandar que se empleo anteriormente en el conjunto de entrenamiento para entrenar el modelo.\n",
        "</div>\n",
        "<a id=\"featureNormalize\"></a>"
      ]
    },
    {
      "cell_type": "code",
      "execution_count": null,
      "metadata": {
        "id": "7xFD8H3WlHQ1",
        "colab": {
          "base_uri": "https://localhost:8080/"
        },
        "outputId": "f173a44f-6522-428c-84ed-d37bb22e99e7"
      },
      "outputs": [
        {
          "output_type": "stream",
          "name": "stdout",
          "text": [
            "[[ 3. 34. 25.]\n",
            " [ 0. 32. 36.]\n",
            " [ 0. 21. 23.]\n",
            " ...\n",
            " [ 0.  1.  0.]\n",
            " [ 0.  6.  0.]\n",
            " [ 0.  3.  0.]]\n",
            "Media calculada: [ 0.46509479 35.93583002 22.6979247 ]\n",
            "Desviación estandar calculada: [ 1.37703808 73.45490059 62.71739609]\n",
            "[[ 1.84083886 -0.02635399  0.03670553]\n",
            " [-0.33775013 -0.05358159  0.21209547]\n",
            " [-0.33775013 -0.20333334  0.00481645]\n",
            " ...\n",
            " [-0.33775013 -0.47560925 -0.36190796]\n",
            " [-0.33775013 -0.40754027 -0.36190796]\n",
            " [-0.33775013 -0.44838166 -0.36190796]]\n"
          ]
        }
      ],
      "source": [
        "#Calculo de la desviacion estandar y la media\n",
        "def  featureNormalize(X):\n",
        "    X_norm = X.copy()\n",
        "    mu = np.zeros(X.shape[1])\n",
        "    sigma = np.zeros(X.shape[1])\n",
        "\n",
        "    mu = np.mean(X, axis = 0)\n",
        "    sigma = np.std(X, axis = 0)\n",
        "    X_norm = (X - mu) / sigma\n",
        "    \n",
        "    return X_norm, mu, sigma\n",
        "# llama featureNormalize con los datos cargados\n",
        "X_norm, mu, sigma = featureNormalize(X)\n",
        "\n",
        "print(X)\n",
        "print('Media calculada:', mu)\n",
        "print('Desviación estandar calculada:', sigma)\n",
        "print(X_norm)"
      ]
    },
    {
      "cell_type": "markdown",
      "metadata": {
        "id": "it9bMYuLlHQ2"
      },
      "source": [
        "Despues de `featureNormalize` la funcion es provada, se añade el temino de interseccion a `X_norm`:"
      ]
    },
    {
      "cell_type": "code",
      "execution_count": null,
      "metadata": {
        "id": "nNaGVxgolHQ2",
        "colab": {
          "base_uri": "https://localhost:8080/"
        },
        "outputId": "b1b18548-5126-4df8-d36e-9dad8f5fc4a0"
      },
      "outputs": [
        {
          "output_type": "stream",
          "name": "stdout",
          "text": [
            "[[ 1.          1.84083886 -0.02635399  0.03670553]\n",
            " [ 1.         -0.33775013 -0.05358159  0.21209547]\n",
            " [ 1.         -0.33775013 -0.20333334  0.00481645]\n",
            " ...\n",
            " [ 1.         -0.33775013 -0.47560925 -0.36190796]\n",
            " [ 1.         -0.33775013 -0.40754027 -0.36190796]\n",
            " [ 1.         -0.33775013 -0.44838166 -0.36190796]]\n"
          ]
        }
      ],
      "source": [
        "# Añade el termino de interseccion a X\n",
        "# (Columna de unos para X0)\n",
        "X = np.concatenate([np.ones((m, 1)), X_norm], axis=1)\n",
        "print(X)"
      ]
    },
    {
      "cell_type": "markdown",
      "metadata": {
        "id": "xzLiIE6NlHQ3"
      },
      "source": [
        "<a id=\"section5\"></a>\n",
        "### 2.2 Descenso por el gradiente\n",
        "\n",
        "En el ejemplo anterior se implemento el descenso por el gradiente para un problema de regresion univariable. La unica diferencia es que ahora existe una caracteristica adicional en la matriz $X$. La función de hipótesis y la regla de actualización del descenso del gradiente por lotes permanecen sin cambios.\n",
        "\n",
        "La implementacion de las funciones `computeCostMulti` y `gradientDescentMulti` son similares a la funcion de costo y función de descenso por el gradiente de la regresión lineal multiple es similar al de la regresion lineal multivariable. Es importante garantizar que el codigo soporte cualquier numero de caracteristicas y esten bien vectorizadas.\n",
        "\n",
        "Se puede utilizar `shape`, propiedad de los arrays `numpy`, para identificar cuantas caracteristicas estan consideradas en el dataset.\n",
        "\n",
        "<div class=\"alert alert-block alert-warning\">\n",
        "**Nota de implementación:** En el caso de multivariables, la función de costo puede se escrita considerando la forma vectorizada de la siguiente manera:\n",
        "\n",
        "$$ J(\\theta) = \\frac{1}{2m}(X\\theta - \\vec{y})^T(X\\theta - \\vec{y}) $$\n",
        "\n",
        "donde:\n",
        "\n",
        "$$ X = \\begin{pmatrix}\n",
        "          - (x^{(1)})^T - \\\\\n",
        "          - (x^{(2)})^T - \\\\\n",
        "          \\vdots \\\\\n",
        "          - (x^{(m)})^T - \\\\ \\\\\n",
        "        \\end{pmatrix} \\qquad \\mathbf{y} = \\begin{bmatrix} y^{(1)} \\\\ y^{(2)} \\\\ \\vdots \\\\ y^{(m)} \\\\\\end{bmatrix}$$\n",
        "\n",
        "La version vectorizada es eficiente cuando se trabaja con herramientas de calculo numericos computacional como `numpy`. \n",
        "</div>\n",
        "\n",
        "<a id=\"computeCostMulti\"></a>"
      ]
    },
    {
      "cell_type": "code",
      "execution_count": null,
      "metadata": {
        "id": "EQCMN7KqlHQ3"
      },
      "outputs": [],
      "source": [
        "#Funcion de costos\n",
        "def computeCostMulti(X, y, theta):\n",
        "    # Inicializa algunos valores utiles\n",
        "    m = y.shape[0] # numero de ejemplos de entrenamiento\n",
        "    \n",
        "    J = 0\n",
        "    \n",
        "    h = np.dot(X, theta)\n",
        "    \n",
        "    J = (1/(2 * m)) * np.sum(np.square(np.dot(X, theta) - y))\n",
        "    \n",
        "    return J\n"
      ]
    },
    {
      "cell_type": "code",
      "execution_count": null,
      "metadata": {
        "id": "Vdy_aQUklHQ4"
      },
      "outputs": [],
      "source": [
        "def gradientDescentMulti(X, y, theta, alpha, num_iters):\n",
        "    \n",
        "    # Inicializa algunos valores \n",
        "    m = y.shape[0] # numero de ejemplos de entrenamiento\n",
        "    \n",
        "    # realiza una copia de theta, el cual será acutalizada por el descenso por el gradiente\n",
        "    theta = theta.copy()\n",
        "    \n",
        "    J_history = []\n",
        "    \n",
        "    for i in range(num_iters):\n",
        "        theta = theta - (alpha / m) * (np.dot(X, theta) - y).dot(X)\n",
        "        J_history.append(computeCostMulti(X, y, theta))\n",
        "    \n",
        "    return theta, J_history"
      ]
    },
    {
      "cell_type": "markdown",
      "metadata": {
        "id": "a8b_GwZslHQ4"
      },
      "source": [
        "#### 3.2.1 Seleccionando coheficientes de aprendizaje\n"
      ]
    },
    {
      "cell_type": "code",
      "execution_count": null,
      "metadata": {
        "colab": {
          "base_uri": "https://localhost:8080/",
          "height": 314
        },
        "id": "sId0DiH9lHQ4",
        "outputId": "58cccb6b-f4c5-4af7-fe69-0b3b485b1d9c"
      },
      "outputs": [
        {
          "output_type": "stream",
          "name": "stdout",
          "text": [
            "theta calculado por el descenso por el gradiente: [37.36847293 14.69081075 48.83657028 44.81203692]\n",
            "El precio para una consulta medica con 2 antecedente, 23 citas anteriores, y 12 laboratorios (usando el descenso por el gradiente): $37\n"
          ]
        },
        {
          "output_type": "display_data",
          "data": {
            "text/plain": [
              "<Figure size 432x288 with 1 Axes>"
            ],
            "image/png": "[encoded data removed]"
          },
          "metadata": {
            "needs_background": "light"
          }
        }
      ],
      "source": [
        "# Elegir algun valor para alpha (probar varias alternativas)\n",
        "alpha = 0.001 # alpha = 0.003\n",
        "num_iters = 1000\n",
        "\n",
        "# inicializa theta y ejecuta el descenso por el gradiente\n",
        "theta = np.zeros(4)\n",
        "theta, J_history = gradientDescentMulti(X, y, theta, alpha, num_iters)\n",
        "\n",
        "# Grafica la convergencia del costo\n",
        "pyplot.plot(np.arange(len(J_history)), J_history, lw=2)\n",
        "pyplot.xlabel('Numero de iteraciones')\n",
        "pyplot.ylabel('Costo J')\n",
        "\n",
        "# Muestra los resultados del descenso por el gradiente\n",
        "print('theta calculado por el descenso por el gradiente: {:s}'.format(str(theta)))\n",
        "\n",
        "# Estimar el precio para una consulta medica tipo 17052258, en la zona 175030, con 2 antecedente, 23 citas anteriores, y 12 laboratorios\n",
        "X_array = [1, 2, 23, 12]\n",
        "X_array[1:4] = (X_array[1:4] - mu) / sigma\n",
        "price = np.dot(X_array, theta)   # Se debe cambiar esto\n",
        "\n",
        "print('El precio para una consulta medica con 2 antecedente, 23 citas anteriores, y 12 laboratorios (usando el descenso por el gradiente): ${:.0f}'.format(price))"
      ]
    },
    {
      "cell_type": "code",
      "execution_count": null,
      "metadata": {
        "id": "y0aZhWEqlHQ4"
      },
      "outputs": [],
      "source": [
        "X_array = [1, 2, 23, 12]\n",
        "X_array[1:4] = (X_array[1:4] - mu) / sigma"
      ]
    },
    {
      "cell_type": "code",
      "execution_count": null,
      "metadata": {
        "id": "KZ4G9CbJlHQ4",
        "outputId": "5fb36cfc-a545-40b2-a7c2-6bdffb37cab0",
        "colab": {
          "base_uri": "https://localhost:8080/"
        }
      },
      "outputs": [
        {
          "output_type": "execute_result",
          "data": {
            "text/plain": [
              "[1.1146425335484544, -0.17610574541836624, -0.17057348302643144]"
            ]
          },
          "metadata": {},
          "execution_count": 19
        }
      ],
      "source": [
        "X_array[1:4]"
      ]
    },
    {
      "cell_type": "markdown",
      "metadata": {
        "id": "-nMzqD8elHQ4"
      },
      "source": [
        "<a id=\"section7\"></a>\n",
        "### 2.3 Ecuacion de la Normal\n",
        "\n",
        "Una manera de calcular rapidamente el modelo de una regresion lineal es:\n",
        "\n",
        "$$ \\theta = \\left( X^T X\\right)^{-1} X^T\\vec{y}$$\n",
        "\n",
        "Utilizando esta formula no requiere que se escale ninguna caracteristica, y se obtendra una solucion exacta con un solo calculo: no hay “bucles de convergencia” como en el descenso por el gradiente. \n",
        "\n",
        "Primero se recargan los datos para garantizar que las variables no esten modificadas. Recordar que no es necesario escalar las caracteristicas, se debe agregar la columna de unos a la matriz $X$ para tener el termino de intersección($\\theta_0$). "
      ]
    },
    {
      "cell_type": "code",
      "execution_count": null,
      "metadata": {
        "id": "C6j77JNmlHQ5"
      },
      "outputs": [],
      "source": [
        "# Cargar datos\n",
        "data = np.loadtxt('/content/gdrive/MyDrive/SIS-420/machine/Dataset_medicina-consultorio_prac7_2.txt', delimiter=',')\n",
        "X = data[:, :5]\n",
        "y = data[:, 5]\n",
        "m = y.size\n",
        "X = np.concatenate([np.ones((m, 1)), X], axis=1)"
      ]
    },
    {
      "cell_type": "code",
      "execution_count": null,
      "metadata": {
        "id": "gVZdjjk9lHQ5"
      },
      "outputs": [],
      "source": [
        "def normalEqn(X, y):\n",
        "  \n",
        "    theta = np.zeros(X.shape[1])\n",
        "    \n",
        "    theta = np.dot(np.dot(np.linalg.inv(np.dot(X.T,X)),X.T),y)\n",
        "    \n",
        "    return theta"
      ]
    },
    {
      "cell_type": "code",
      "execution_count": null,
      "metadata": {
        "id": "Ybyw-FfolHQ5"
      },
      "outputs": [],
      "source": [
        "# Calcula los parametros con la ecuación de la normal\n",
        "theta = normalEqn(X, y);\n",
        "\n",
        "# Muestra los resultados optenidos a partir de la aplicación de la ecuación de la normal\n",
        "print('Theta calculado a partir de la ecuación de la normal: {:s}'.format(str(theta)));\n",
        "\n",
        "# Estimar el precio para una casa de superficie de 1650 sq-ft y tres dormitorios\n",
        "\n",
        "X_array = [1, 17052258, 175030, 2, 23, 12]\n",
        "price = np.dot(X_array, theta) \n",
        "\n",
        "print('El precio para una consulta medica tipo 17052258, en la zona 175030, con 2 antecedente, 23 citas anteriores, y 12 laboratorios (usando la ecuación de la normal): ${:.0f}'.format(price))"
      ]
    }
  ],
  "metadata": {
    "kernelspec": {
      "display_name": "Python 3",
      "language": "python",
      "name": "python3"
    },
    "language_info": {
      "codemirror_mode": {
        "name": "ipython",
        "version": 3
      },
      "file_extension": ".py",
      "mimetype": "text/x-python",
      "name": "python",
      "nbconvert_exporter": "python",
      "pygments_lexer": "ipython3",
      "version": "3.8.5"
    },
    "colab": {
      "provenance": [],
      "include_colab_link": true
    }
  },
  "nbformat": 4,
  "nbformat_minor": 0
}