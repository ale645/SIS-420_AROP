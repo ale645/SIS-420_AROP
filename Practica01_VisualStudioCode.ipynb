{
 "cells": [
  {
   "cell_type": "code",
   "execution_count": 1,
   "metadata": {},
   "outputs": [
    {
     "name": "stdout",
     "output_type": "stream",
     "text": [
      "\n",
      "\n",
      "Bienvenido a este sector informativo,podra visualisar los campos \n",
      "que prefiera ver seleccionando del 1 al 3: \n",
      "\n",
      "[1] Biografia\n",
      "[2] Datos Importantes\n",
      "[3] Salir\n",
      "\n",
      "\n",
      "BIOGRAFIA \n",
      " Alejandra Reyes Ortiz Pérez Nació el 5 de febrero de 1998 en el departamento de Tarija, creció en los departamentos\n",
      " Chuquisaca, Santa Cruz, Potosídurante su etapa escolar, estudiando en diferentes unidades\n",
      " educativas, durante su etapa secundaria e universitaria permaneció en la ciudad de\n",
      " Sucre - Chuquisaca, Saliendo Graduada del colegio Don Bosco B, estudiando actualmente en\n",
      " la facultad Mecánica para la carrera de Ing. Electrónica y Tecnológica para la carrera de\n",
      " Ing. en Diseño y animacion digital que brinda la universidad San Francisco Xavier de Chuquisaca.\n",
      "\n",
      "=-==-==-==-==-==-==-==-==-==-==-==-==-==-==-==-==-==-==-==-= \n",
      "\n",
      " DATOS IMPORTANTES\n",
      "              Alejandra Reyes Ortiz Pérez\n",
      "              Altura : 1.50 metros\n",
      "              Fecha de nacimiento : 05/02/1998\n",
      "              Nacionalidad : Tarijeña\n",
      "              Enfermedad de base : si\n",
      "              tipo de sangre : O+\n",
      "              Edad: 24 años\n",
      "\n",
      "               \n",
      "=-==-==-==-==-==-==-==-==-==-==-==-==-==-==-==-==-==-==-==-= \n",
      "\n"
     ]
    }
   ],
   "source": [
    "#def selec():\n",
    "menu = \"\"\"\n",
    "\n",
    "Bienvenido a este sector informativo,podra visualisar los campos \n",
    "que prefiera ver seleccionando del 1 al 3: \n",
    "\n",
    "[1] Biografia\n",
    "[2] Datos Importantes\n",
    "[3] Salir\n",
    "\n",
    "\"\"\"\n",
    "print(menu)\n",
    "\n",
    "opcion = input('digita una opcion del 1 al 3: ')\n",
    "\n",
    "while opcion != '3' :\n",
    "    if opcion == '1':\n",
    "        print(\n",
    "        'BIOGRAFIA \\n Alejandra Reyes Ortiz Pérez',\n",
    "        'Nació el 5 de febrero de 1998 en el departamento de Tarija, creció en los departamentos\\n', \n",
    "        'Chuquisaca, Santa Cruz, Potosídurante su etapa escolar, estudiando en diferentes unidades\\n',\n",
    "        'educativas, durante su etapa secundaria e universitaria permaneció en la ciudad de\\n' ,\n",
    "        'Sucre - Chuquisaca, Saliendo Graduada del colegio Don Bosco B, estudiando actualmente en\\n', \n",
    "        'la facultad Mecánica para la carrera de Ing. Electrónica y Tecnológica para la carrera de\\n', \n",
    "        'Ing. en Diseño y animacion digital que brinda la universidad San Francisco Xavier de Chuquisaca.\\n')\n",
    "        print('=-='*20,'\\n')\n",
    "\n",
    "    elif opcion=='2':\n",
    "        print(\"\"\" DATOS IMPORTANTES\n",
    "              Alejandra Reyes Ortiz Pérez\n",
    "              Altura : 1.50 metros\n",
    "              Fecha de nacimiento : 05/02/1998\n",
    "              Nacionalidad : Tarijeña\n",
    "              Enfermedad de base : si\n",
    "              tipo de sangre : O+\n",
    "              Edad: 24 años\n",
    "\n",
    "               \"\"\")\n",
    "       # print('DATOS IMPORTANTES \\n Alejandra Reyes Ortiz Pérez \\n',\n",
    "        #        'Altura : 1.50 metros \\n Fecha de nacimiento : 05/02/1998  \\n Nacionalidad : Tarijeña \\n',\n",
    "         #       'Enfermedad de base : si \\n tipo de sangre : O+ \\n Edad: 24 años')\n",
    "        print('=-='*20,'\\n')\n",
    "\n",
    "    else:\n",
    "        print('Debes digitar un numero entre el 1 y el 3')\n",
    "        print('=-='*20,'\\n')\n",
    "        \n",
    "    opcion = input('digita una opcion del 1 al 3: ')\n",
    " \n",
    "#selec()"
   ]
  }
 ],
 "metadata": {
  "kernelspec": {
   "display_name": "Python 3.9.12 ('base')",
   "language": "python",
   "name": "python3"
  },
  "language_info": {
   "codemirror_mode": {
    "name": "ipython",
    "version": 3
   },
   "file_extension": ".py",
   "mimetype": "text/x-python",
   "name": "python",
   "nbconvert_exporter": "python",
   "pygments_lexer": "ipython3",
   "version": "3.9.12"
  },
  "orig_nbformat": 4,
  "vscode": {
   "interpreter": {
    "hash": "86409cb4f2248c0293f002c5afb879bc3c48c3e0a43e761ac54418701115bf16"
   }
  }
 },
 "nbformat": 4,
 "nbformat_minor": 2
}
