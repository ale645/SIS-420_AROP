{
  "nbformat": 4,
  "nbformat_minor": 0,
  "metadata": {
    "colab": {
      "provenance": [],
      "authorship_tag": "ABX9TyOY/3tYe1nnKTD7GfWc1akw",
      "include_colab_link": true
    },
    "kernelspec": {
      "name": "python3",
      "display_name": "Python 3"
    },
    "language_info": {
      "name": "python"
    }
  },
  "cells": [
    {
      "cell_type": "markdown",
      "metadata": {
        "id": "view-in-github",
        "colab_type": "text"
      },
      "source": [
        "<a href=\"https://colab.research.google.com/github/ale645/SIS-420_AROP/blob/main/laboratorio02_1.ipynb\" target=\"_parent\"><img src=\"https://colab.research.google.com/assets/colab-badge.svg\" alt=\"Open In Colab\"/></a>"
      ]
    },
    {
      "cell_type": "code",
      "source": [
        "#quick sor depende del pivote\n",
        "#funciona \n",
        "def quick(lista):\n",
        "  #caso base\n",
        "  if len(lista)<=1:\n",
        "    return lista\n",
        "\n",
        "  #caso recursivo\n",
        "  pivote= lista.pop()\n",
        "\n",
        "  lista1=[]\n",
        "  lista2=[]\n",
        "\n",
        "  for e in lista:\n",
        "    if e <= pivote:\n",
        "      lista1.append(e)\n",
        "    else:\n",
        "      lista2.append(e)\n",
        "\n",
        "\n",
        "  lista1= quick(lista1) #sirve para ordenar los valores de las listas\n",
        "  lista2= quick(lista2)\n",
        "\n",
        "  return (lista1+ [pivote] + lista2)\n",
        "\n",
        "lista=[10,8,9,5,7,6,4,2,3,1]\n",
        "print(lista)\n",
        "print(quick(lista))"
      ],
      "metadata": {
        "colab": {
          "base_uri": "https://localhost:8080/"
        },
        "id": "oPQ4WbycWKwK",
        "outputId": "9587bc97-46ee-471f-d3da-7df9d3d306a5"
      },
      "execution_count": 4,
      "outputs": [
        {
          "output_type": "stream",
          "name": "stdout",
          "text": [
            "[10, 8, 9, 5, 7, 6, 4, 2, 3, 1]\n",
            "[1, 2, 3, 4, 5, 6, 7, 8, 9, 10]\n"
          ]
        }
      ]
    }
  ]
}